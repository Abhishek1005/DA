{
  "nbformat": 4,
  "nbformat_minor": 0,
  "metadata": {
    "colab": {
      "name": "Boston.ipynb",
      "version": "0.3.2",
      "provenance": []
    },
    "kernelspec": {
      "name": "python3",
      "display_name": "Python 3"
    }
  },
  "cells": [
    {
      "cell_type": "code",
      "metadata": {
        "id": "XyVz3HnbiunW",
        "colab_type": "code",
        "outputId": "f68f203c-fb5a-4369-b742-b2007830ba4b",
        "colab": {
          "base_uri": "https://localhost:8080/",
          "height": 34
        }
      },
      "source": [
        "from keras.models import Sequential\n",
        "from keras.layers import Dense\n",
        "import numpy as np\n",
        "from sklearn.datasets import load_boston\n",
        "from sklearn.preprocessing import StandardScaler,OneHotEncoder\n",
        "from sklearn.model_selection import train_test_split"
      ],
      "execution_count": 0,
      "outputs": [
        {
          "output_type": "stream",
          "text": [
            "Using TensorFlow backend.\n"
          ],
          "name": "stderr"
        }
      ]
    },
    {
      "cell_type": "code",
      "metadata": {
        "id": "tmNimsw4jUtE",
        "colab_type": "code",
        "outputId": "47125432-8b9d-4308-d662-32fecb2a0b6a",
        "colab": {
          "base_uri": "https://localhost:8080/",
          "height": 51
        }
      },
      "source": [
        "boston=load_boston()\n",
        "print(boston.feature_names)\n"
      ],
      "execution_count": 0,
      "outputs": [
        {
          "output_type": "stream",
          "text": [
            "['CRIM' 'ZN' 'INDUS' 'CHAS' 'NOX' 'RM' 'AGE' 'DIS' 'RAD' 'TAX' 'PTRATIO'\n",
            " 'B' 'LSTAT']\n"
          ],
          "name": "stdout"
        }
      ]
    },
    {
      "cell_type": "code",
      "metadata": {
        "id": "90l2AsQ3kbYE",
        "colab_type": "code",
        "colab": {}
      },
      "source": [
        "input_data=boston.data\n",
        "target_values=boston.target"
      ],
      "execution_count": 0,
      "outputs": []
    },
    {
      "cell_type": "code",
      "metadata": {
        "id": "MTDKrvhqklXz",
        "colab_type": "code",
        "colab": {}
      },
      "source": [
        "scale=StandardScaler()\n",
        "input_scale=scale.fit_transform(input_data)"
      ],
      "execution_count": 0,
      "outputs": []
    },
    {
      "cell_type": "code",
      "metadata": {
        "id": "EQBkAu55ldVD",
        "colab_type": "code",
        "colab": {}
      },
      "source": [
        "x_train,x_test,y_train,y_test = train_test_split(input_scale,target_values,test_size=0.3)"
      ],
      "execution_count": 0,
      "outputs": []
    },
    {
      "cell_type": "code",
      "metadata": {
        "id": "YRZ_TrpelwKD",
        "colab_type": "code",
        "colab": {}
      },
      "source": [
        "model=Sequential()"
      ],
      "execution_count": 0,
      "outputs": []
    },
    {
      "cell_type": "code",
      "metadata": {
        "id": "3WDBGQeOl1BE",
        "colab_type": "code",
        "colab": {}
      },
      "source": [
        "h1 = model.add(Dense(10,activation=\"relu\",input_dim=13))\n",
        "h2=model.add(Dense(8,activation=\"relu\"))\n",
        "h3=model.add(Dense(5,activation=\"relu\"))\n",
        "h4=model.add(Dense(8,activation=\"relu\"))\n",
        "h5=model.add(Dense(5,activation=\"relu\"))\n",
        "o = model.add(Dense(1,activation=\"linear\"))\n"
      ],
      "execution_count": 0,
      "outputs": []
    },
    {
      "cell_type": "code",
      "metadata": {
        "id": "0tSJTEw3mrRT",
        "colab_type": "code",
        "colab": {}
      },
      "source": [
        "model.compile(loss=\"mean_squared_error\",optimizer=\"Adam\",metrics=['accuracy'])"
      ],
      "execution_count": 0,
      "outputs": []
    },
    {
      "cell_type": "code",
      "metadata": {
        "id": "TMF_1X3nnoPd",
        "colab_type": "code",
        "outputId": "48d4b6cf-1634-44f9-cc46-e1025820681a",
        "colab": {
          "base_uri": "https://localhost:8080/",
          "height": 340
        }
      },
      "source": [
        "model.summary()"
      ],
      "execution_count": 0,
      "outputs": [
        {
          "output_type": "stream",
          "text": [
            "_________________________________________________________________\n",
            "Layer (type)                 Output Shape              Param #   \n",
            "=================================================================\n",
            "dense_19 (Dense)             (None, 10)                140       \n",
            "_________________________________________________________________\n",
            "dense_20 (Dense)             (None, 8)                 88        \n",
            "_________________________________________________________________\n",
            "dense_21 (Dense)             (None, 5)                 45        \n",
            "_________________________________________________________________\n",
            "dense_22 (Dense)             (None, 8)                 48        \n",
            "_________________________________________________________________\n",
            "dense_23 (Dense)             (None, 5)                 45        \n",
            "_________________________________________________________________\n",
            "dense_24 (Dense)             (None, 1)                 6         \n",
            "=================================================================\n",
            "Total params: 372\n",
            "Trainable params: 372\n",
            "Non-trainable params: 0\n",
            "_________________________________________________________________\n"
          ],
          "name": "stdout"
        }
      ]
    },
    {
      "cell_type": "code",
      "metadata": {
        "id": "XSVBDQB5mP5T",
        "colab_type": "code",
        "outputId": "9640d112-55ff-4704-db33-0d5aa91145d3",
        "colab": {
          "base_uri": "https://localhost:8080/",
          "height": 1000
        }
      },
      "source": [
        "model.fit(x_train,y_train,batch_size=10,epochs=50)"
      ],
      "execution_count": 0,
      "outputs": [
        {
          "output_type": "stream",
          "text": [
            "Epoch 1/50\n",
            "354/354 [==============================] - 0s 1ms/step - loss: 559.6441 - acc: 0.0000e+00\n",
            "Epoch 2/50\n",
            "354/354 [==============================] - 0s 127us/step - loss: 517.2180 - acc: 0.0000e+00\n",
            "Epoch 3/50\n",
            "354/354 [==============================] - 0s 126us/step - loss: 403.1758 - acc: 0.0000e+00\n",
            "Epoch 4/50\n",
            "354/354 [==============================] - 0s 128us/step - loss: 199.8896 - acc: 0.0000e+00\n",
            "Epoch 5/50\n",
            "354/354 [==============================] - 0s 132us/step - loss: 92.1297 - acc: 0.0000e+00\n",
            "Epoch 6/50\n",
            "354/354 [==============================] - 0s 128us/step - loss: 60.7191 - acc: 0.0113\n",
            "Epoch 7/50\n",
            "354/354 [==============================] - 0s 151us/step - loss: 44.1088 - acc: 0.0056\n",
            "Epoch 8/50\n",
            "354/354 [==============================] - 0s 135us/step - loss: 34.3338 - acc: 0.0056\n",
            "Epoch 9/50\n",
            "354/354 [==============================] - 0s 141us/step - loss: 29.5090 - acc: 0.0056\n",
            "Epoch 10/50\n",
            "354/354 [==============================] - 0s 133us/step - loss: 26.6024 - acc: 0.0056\n",
            "Epoch 11/50\n",
            "354/354 [==============================] - 0s 132us/step - loss: 24.6716 - acc: 0.0085\n",
            "Epoch 12/50\n",
            "354/354 [==============================] - 0s 137us/step - loss: 23.2199 - acc: 0.0169\n",
            "Epoch 13/50\n",
            "354/354 [==============================] - 0s 148us/step - loss: 22.0508 - acc: 0.0141\n",
            "Epoch 14/50\n",
            "354/354 [==============================] - 0s 124us/step - loss: 20.9722 - acc: 0.0113\n",
            "Epoch 15/50\n",
            "354/354 [==============================] - 0s 132us/step - loss: 20.1082 - acc: 0.0113\n",
            "Epoch 16/50\n",
            "354/354 [==============================] - 0s 136us/step - loss: 19.5034 - acc: 0.0113\n",
            "Epoch 17/50\n",
            "354/354 [==============================] - 0s 137us/step - loss: 18.8598 - acc: 0.0113\n",
            "Epoch 18/50\n",
            "354/354 [==============================] - 0s 133us/step - loss: 18.3694 - acc: 0.0141\n",
            "Epoch 19/50\n",
            "354/354 [==============================] - 0s 148us/step - loss: 17.7042 - acc: 0.0085\n",
            "Epoch 20/50\n",
            "354/354 [==============================] - 0s 142us/step - loss: 17.1425 - acc: 0.0085\n",
            "Epoch 21/50\n",
            "354/354 [==============================] - 0s 140us/step - loss: 17.1257 - acc: 0.0169\n",
            "Epoch 22/50\n",
            "354/354 [==============================] - 0s 134us/step - loss: 16.3720 - acc: 0.0056\n",
            "Epoch 23/50\n",
            "354/354 [==============================] - 0s 153us/step - loss: 16.0663 - acc: 0.0056\n",
            "Epoch 24/50\n",
            "354/354 [==============================] - 0s 134us/step - loss: 15.4660 - acc: 0.0085\n",
            "Epoch 25/50\n",
            "354/354 [==============================] - 0s 145us/step - loss: 15.4873 - acc: 0.0085\n",
            "Epoch 26/50\n",
            "354/354 [==============================] - 0s 134us/step - loss: 14.9924 - acc: 0.0085\n",
            "Epoch 27/50\n",
            "354/354 [==============================] - 0s 148us/step - loss: 14.3424 - acc: 0.0085\n",
            "Epoch 28/50\n",
            "354/354 [==============================] - 0s 141us/step - loss: 14.1584 - acc: 0.0085\n",
            "Epoch 29/50\n",
            "354/354 [==============================] - 0s 138us/step - loss: 13.8675 - acc: 0.0113\n",
            "Epoch 30/50\n",
            "354/354 [==============================] - 0s 130us/step - loss: 13.6300 - acc: 0.0113\n",
            "Epoch 31/50\n",
            "354/354 [==============================] - 0s 135us/step - loss: 13.3969 - acc: 0.0141\n",
            "Epoch 32/50\n",
            "354/354 [==============================] - 0s 133us/step - loss: 13.1488 - acc: 0.0169\n",
            "Epoch 33/50\n",
            "354/354 [==============================] - 0s 136us/step - loss: 13.0678 - acc: 0.0141\n",
            "Epoch 34/50\n",
            "354/354 [==============================] - 0s 126us/step - loss: 12.7135 - acc: 0.0113\n",
            "Epoch 35/50\n",
            "354/354 [==============================] - 0s 134us/step - loss: 12.6158 - acc: 0.0198\n",
            "Epoch 36/50\n",
            "354/354 [==============================] - 0s 135us/step - loss: 12.6073 - acc: 0.0113\n",
            "Epoch 37/50\n",
            "354/354 [==============================] - 0s 136us/step - loss: 12.6950 - acc: 0.0169\n",
            "Epoch 38/50\n",
            "354/354 [==============================] - 0s 156us/step - loss: 12.0887 - acc: 0.0141\n",
            "Epoch 39/50\n",
            "354/354 [==============================] - 0s 137us/step - loss: 12.3669 - acc: 0.0169\n",
            "Epoch 40/50\n",
            "354/354 [==============================] - 0s 135us/step - loss: 12.1488 - acc: 0.0113\n",
            "Epoch 41/50\n",
            "354/354 [==============================] - 0s 137us/step - loss: 11.7743 - acc: 0.0169\n",
            "Epoch 42/50\n",
            "354/354 [==============================] - 0s 128us/step - loss: 11.7856 - acc: 0.0113\n",
            "Epoch 43/50\n",
            "354/354 [==============================] - 0s 132us/step - loss: 11.5874 - acc: 0.0141\n",
            "Epoch 44/50\n",
            "354/354 [==============================] - 0s 137us/step - loss: 11.6888 - acc: 0.0226\n",
            "Epoch 45/50\n",
            "354/354 [==============================] - 0s 133us/step - loss: 11.5106 - acc: 0.0141\n",
            "Epoch 46/50\n",
            "354/354 [==============================] - 0s 137us/step - loss: 11.2852 - acc: 0.0169\n",
            "Epoch 47/50\n",
            "354/354 [==============================] - 0s 137us/step - loss: 11.2461 - acc: 0.0113\n",
            "Epoch 48/50\n",
            "354/354 [==============================] - 0s 142us/step - loss: 11.1965 - acc: 0.0169\n",
            "Epoch 49/50\n",
            "354/354 [==============================] - 0s 139us/step - loss: 10.9967 - acc: 0.0226\n",
            "Epoch 50/50\n",
            "354/354 [==============================] - 0s 150us/step - loss: 11.1281 - acc: 0.0198\n"
          ],
          "name": "stdout"
        },
        {
          "output_type": "execute_result",
          "data": {
            "text/plain": [
              "<keras.callbacks.History at 0x7f3a685e8cc0>"
            ]
          },
          "metadata": {
            "tags": []
          },
          "execution_count": 29
        }
      ]
    }
  ]
}